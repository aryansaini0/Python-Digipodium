{
 "cells": [
  {
   "cell_type": "markdown",
   "metadata": {},
   "source": [
    "-List \n",
    "- sequential(ordered)\n",
    "- mixed datatype (heterogenous)\n",
    "- can be empty\n",
    "- can have duplicates\n",
    "- is mutable (we can add or remove elements)\n",
    "- represented as [] in python\n",
    "- list function creates a list"
   ]
  },
  {
   "cell_type": "markdown",
   "metadata": {},
   "source": [
    "what are you going to learn\n",
    "- creation\n",
    "- indexing and slicing\n",
    "- methods\n",
    "- comprehension"
   ]
  },
  {
   "cell_type": "code",
   "execution_count": 1,
   "metadata": {},
   "outputs": [],
   "source": [
    "a = [] #empty"
   ]
  },
  {
   "cell_type": "code",
   "execution_count": 3,
   "metadata": {},
   "outputs": [],
   "source": [
    "b = [23,34,12,56,78] #numeric\n",
    "c = ['Alex','Ana','Billy'] #string\n",
    "d = ['Alex',300,'Ana',320,'Billy',230] #mixed \n",
    "e = [[1,2,3],[2,3,4],[4,5,6]] #nested list(list within a list)\n",
    "f = [1]*10 #duplicated list"
   ]
  },
  {
   "cell_type": "code",
   "execution_count": 5,
   "metadata": {},
   "outputs": [
    {
     "name": "stdout",
     "output_type": "stream",
     "text": [
      "[23, 34, 12, 56, 78]\n",
      "['Alex', 'Ana', 'Billy']\n",
      "['Alex', 300, 'Ana', 320, 'Billy', 230]\n",
      "[[1, 2, 3], [2, 3, 4], [4, 5, 6]]\n",
      "[1, 1, 1, 1, 1, 1, 1, 1, 1, 1]\n"
     ]
    }
   ],
   "source": [
    "print(b)\n",
    "print(c)\n",
    "print(d)\n",
    "print(e)\n",
    "print(f)"
   ]
  },
  {
   "cell_type": "code",
   "execution_count": 6,
   "metadata": {},
   "outputs": [
    {
     "name": "stdout",
     "output_type": "stream",
     "text": [
      "Alex.300.Ana.320.Billy.230."
     ]
    }
   ],
   "source": [
    "for i in d:\n",
    "    print(i,end='.')"
   ]
  },
  {
   "cell_type": "code",
   "execution_count": 7,
   "metadata": {},
   "outputs": [
    {
     "name": "stdout",
     "output_type": "stream",
     "text": [
      "['w', 'i', 'k', 'i', 'p', 'e', 'd', 'i', 'a']\n"
     ]
    }
   ],
   "source": [
    "word = 'wikipedia'\n",
    "charlist = list(word)\n",
    "print(charlist)"
   ]
  },
  {
   "cell_type": "code",
   "execution_count": 8,
   "metadata": {},
   "outputs": [
    {
     "data": {
      "text/plain": [
       "['w', 'i', 'k', 'i']"
      ]
     },
     "execution_count": 8,
     "metadata": {},
     "output_type": "execute_result"
    }
   ],
   "source": [
    "charlist[:4]"
   ]
  },
  {
   "cell_type": "code",
   "execution_count": 9,
   "metadata": {},
   "outputs": [
    {
     "data": {
      "text/plain": [
       "['p', 'e', 'd', 'i', 'a']"
      ]
     },
     "execution_count": 9,
     "metadata": {},
     "output_type": "execute_result"
    }
   ],
   "source": [
    "charlist[4:]"
   ]
  },
  {
   "cell_type": "code",
   "execution_count": 10,
   "metadata": {},
   "outputs": [
    {
     "data": {
      "text/plain": [
       "['a', 'i', 'd', 'e', 'p', 'i', 'k', 'i', 'w']"
      ]
     },
     "execution_count": 10,
     "metadata": {},
     "output_type": "execute_result"
    }
   ],
   "source": [
    "charlist[::-1]"
   ]
  },
  {
   "cell_type": "code",
   "execution_count": 13,
   "metadata": {},
   "outputs": [],
   "source": [
    "charlist.reverse()"
   ]
  },
  {
   "cell_type": "code",
   "execution_count": 14,
   "metadata": {},
   "outputs": [
    {
     "data": {
      "text/plain": [
       "'p'"
      ]
     },
     "execution_count": 14,
     "metadata": {},
     "output_type": "execute_result"
    }
   ],
   "source": [
    "charlist[4] #indexing"
   ]
  },
  {
   "cell_type": "markdown",
   "metadata": {},
   "source": [
    "**list has 11 methods**\n",
    "- adding items\n",
    "     - append()\n",
    "     - insert()\n",
    "     - extend()\n",
    "- removing items\n",
    "    - remove()\n",
    "    - pop()\n",
    "    - clear()\n",
    "- utility\n",
    "    - reverse()\n",
    "    - count()\n",
    "    - index()\n",
    "    - copy()\n",
    "    - sort()"
   ]
  },
  {
   "cell_type": "code",
   "execution_count": 15,
   "metadata": {},
   "outputs": [
    {
     "name": "stdout",
     "output_type": "stream",
     "text": [
      "[2, 3, 5]\n"
     ]
    }
   ],
   "source": [
    "numbers = []\n",
    "numbers.append(2)\n",
    "numbers.append(3)\n",
    "numbers.append(5)\n",
    "print(numbers)"
   ]
  },
  {
   "cell_type": "code",
   "execution_count": 18,
   "metadata": {},
   "outputs": [
    {
     "name": "stdout",
     "output_type": "stream",
     "text": [
      "[2, 3, 5, 12, 134, 145, 512, 56668, 12]\n",
      "[2, 3, 5, 12, 134, 145, 512, 56668, 12, 56]\n",
      "[2, 3, 5, 12, 134, 145, 512, 56668, 12, 56, 89]\n",
      "[2, 3, 5, 12, 134, 145, 512, 56668, 12, 56, 89, 7]\n",
      "[2, 3, 5, 12, 134, 145, 512, 56668, 12, 56, 89, 7, 90]\n",
      "[2, 3, 5, 12, 134, 145, 512, 56668, 12, 56, 89, 7, 90, 89]\n",
      "[2, 3, 5, 12, 134, 145, 512, 56668, 12, 56, 89, 7, 90, 89, 78]\n",
      "[2, 3, 5, 12, 134, 145, 512, 56668, 12, 56, 89, 7, 90, 89, 78, 999]\n"
     ]
    }
   ],
   "source": [
    "for i in range(8):\n",
    "    v = int(input(\"enter a number:\"))\n",
    "    numbers.append(v)\n",
    "    print(numbers)"
   ]
  },
  {
   "cell_type": "code",
   "execution_count": 20,
   "metadata": {},
   "outputs": [
    {
     "name": "stdout",
     "output_type": "stream",
     "text": [
      "[2, 3, 5, 12, 134, 145, 512, 56668, 12, 56, 89, 7, 90, 89, 78, 999]\n"
     ]
    }
   ],
   "source": [
    "print(numbers)"
   ]
  },
  {
   "cell_type": "code",
   "execution_count": 23,
   "metadata": {},
   "outputs": [],
   "source": [
    "numbers.remove(56668)"
   ]
  },
  {
   "cell_type": "code",
   "execution_count": 24,
   "metadata": {},
   "outputs": [
    {
     "name": "stdout",
     "output_type": "stream",
     "text": [
      "[2, 3, 5, 12, 134, 145, 512, 12, 56, 89, 7, 90, 89, 78, 999]\n"
     ]
    }
   ],
   "source": [
    "print(numbers)"
   ]
  },
  {
   "cell_type": "code",
   "execution_count": 25,
   "metadata": {},
   "outputs": [
    {
     "data": {
      "text/plain": [
       "[2, 3, 5, 12, 134, 145, 512, 12, 56, 89, 7, 90, 89, 78, 999]"
      ]
     },
     "execution_count": 25,
     "metadata": {},
     "output_type": "execute_result"
    }
   ],
   "source": [
    "numbers"
   ]
  },
  {
   "cell_type": "code",
   "execution_count": 26,
   "metadata": {},
   "outputs": [
    {
     "name": "stdout",
     "output_type": "stream",
     "text": [
      "[2, 3, 4, 5, 12, 134, 145, 512, 12, 56, 89, 7, 90, 89, 78, 999]\n"
     ]
    }
   ],
   "source": [
    "numbers.insert(2, 4)\n",
    "print(numbers)"
   ]
  },
  {
   "cell_type": "code",
   "execution_count": 27,
   "metadata": {},
   "outputs": [],
   "source": [
    "numbers.insert(23,31)#insert at index 23 will put the data at the end of list,as we don't have index 23 in list"
   ]
  },
  {
   "cell_type": "code",
   "execution_count": 28,
   "metadata": {},
   "outputs": [
    {
     "name": "stdout",
     "output_type": "stream",
     "text": [
      "[2, 3, 4, 5, 12, 134, 145, 512, 12, 56, 89, 7, 90, 89, 78, 999, 31]\n"
     ]
    }
   ],
   "source": [
    "print(numbers)"
   ]
  },
  {
   "cell_type": "code",
   "execution_count": 29,
   "metadata": {},
   "outputs": [
    {
     "data": {
      "text/plain": [
       "5"
      ]
     },
     "execution_count": 29,
     "metadata": {},
     "output_type": "execute_result"
    }
   ],
   "source": [
    "numbers.pop(3)#remove the data at index 3"
   ]
  },
  {
   "cell_type": "code",
   "execution_count": 30,
   "metadata": {},
   "outputs": [
    {
     "name": "stdout",
     "output_type": "stream",
     "text": [
      "[2, 3, 4, 12, 134, 145, 512, 12, 56, 89, 7, 90, 89, 78, 999, 31]\n"
     ]
    }
   ],
   "source": [
    "print(numbers)"
   ]
  },
  {
   "cell_type": "code",
   "execution_count": 31,
   "metadata": {},
   "outputs": [
    {
     "data": {
      "text/plain": [
       "31"
      ]
     },
     "execution_count": 31,
     "metadata": {},
     "output_type": "execute_result"
    }
   ],
   "source": [
    "numbers.pop()#removes the last item when nothing is written"
   ]
  },
  {
   "cell_type": "code",
   "execution_count": 32,
   "metadata": {},
   "outputs": [
    {
     "name": "stdout",
     "output_type": "stream",
     "text": [
      "[2, 3, 4, 12, 134, 145, 512, 12, 56, 89, 7, 90, 89, 78, 999]\n"
     ]
    }
   ],
   "source": [
    "print(numbers)"
   ]
  },
  {
   "cell_type": "code",
   "execution_count": 33,
   "metadata": {},
   "outputs": [
    {
     "name": "stdout",
     "output_type": "stream",
     "text": [
      "[]\n"
     ]
    }
   ],
   "source": [
    "numbers.clear()\n",
    "print(numbers)"
   ]
  },
  {
   "cell_type": "code",
   "execution_count": 37,
   "metadata": {},
   "outputs": [
    {
     "name": "stdout",
     "output_type": "stream",
     "text": [
      "[1, 2, 3, 2, 3, 5]\n",
      "[2, 3, 5]\n",
      "[1, 2, 3, 2, 3, 5, [2, 3, 5]]\n"
     ]
    }
   ],
   "source": [
    "x =[1,2,3]\n",
    "y =[2,3,5]\n",
    "#merge a list into another\n",
    "x.extend(y)\n",
    "print(x)\n",
    "print(y)\n",
    "x.append(y)\n",
    "print(x)"
   ]
  },
  {
   "cell_type": "code",
   "execution_count": 39,
   "metadata": {},
   "outputs": [
    {
     "name": "stdout",
     "output_type": "stream",
     "text": [
      "[1, 2, 3, 2, 3, 5, [2, 3, 5], 2, 3, 5]\n"
     ]
    }
   ],
   "source": [
    "z = x+y\n",
    "print(z)"
   ]
  },
  {
   "cell_type": "code",
   "execution_count": 40,
   "metadata": {},
   "outputs": [],
   "source": [
    "del a #to delete variable from memory"
   ]
  },
  {
   "cell_type": "code",
   "execution_count": 41,
   "metadata": {},
   "outputs": [],
   "source": [
    "del b[2] #this is not the best idea use pop() instead"
   ]
  },
  {
   "cell_type": "code",
   "execution_count": 42,
   "metadata": {},
   "outputs": [],
   "source": [
    "del b \n",
    "del c"
   ]
  },
  {
   "cell_type": "code",
   "execution_count": 45,
   "metadata": {},
   "outputs": [
    {
     "name": "stdout",
     "output_type": "stream",
     "text": [
      "[2, 3, 5, 7, 11, 13, 17, 19, 23, 29, 31, 37, 41, 43, 47, 53, 59, 61, 67, 71, 73, 79, 83, 89, 97, 101, 103, 107, 109, 113, 127, 131, 137, 139, 149, 151, 157, 163, 167, 173, 179, 181, 191, 193, 197, 199, 211, 223, 227, 229, 233, 239, 241, 251, 257, 263, 269, 271, 277, 281, 283, 293, 307, 311, 313, 317, 331, 337, 347, 349, 353, 359, 367, 373, 379, 383, 389, 397, 401, 409, 419, 421, 431, 433, 439, 443, 449, 457, 461, 463, 467, 479, 487, 491, 499, 503, 509, 521, 523, 541, 547, 557, 563, 569, 571, 577, 587, 593, 599, 601, 607, 613, 617, 619, 631, 641, 643, 647, 653, 659, 661, 673, 677, 683, 691, 701, 709, 719, 727, 733, 739, 743, 751, 757, 761, 769, 773, 787, 797, 809, 811, 821, 823, 827, 829, 839, 853, 857, 859, 863, 877, 881, 883, 887, 907, 911, 919, 929, 937, 941, 947, 953, 967, 971, 977, 983, 991, 997]\n"
     ]
    }
   ],
   "source": [
    "#prime no. program\n",
    "primes = []\n",
    "for num in range(2,1000):\n",
    "    for i in range(2,num):\n",
    "        if num % i == 0:\n",
    "            break\n",
    "    else:\n",
    "        primes.append(num)\n",
    "print(primes)"
   ]
  },
  {
   "cell_type": "markdown",
   "metadata": {},
   "source": [
    "**wap a program to calculate the total of a list,where the valuers are entered by user.**\n"
   ]
  },
  {
   "cell_type": "markdown",
   "metadata": {},
   "source": [
    "**wap a program to remove every 3 item from a list**\n"
   ]
  },
  {
   "cell_type": "markdown",
   "metadata": {},
   "source": [
    "**wap to add every 3 item from a list,and store the result at the end of the list**"
   ]
  }
 ],
 "metadata": {
  "kernelspec": {
   "display_name": "Python 3.9.12 ('base')",
   "language": "python",
   "name": "python3"
  },
  "language_info": {
   "codemirror_mode": {
    "name": "ipython",
    "version": 3
   },
   "file_extension": ".py",
   "mimetype": "text/x-python",
   "name": "python",
   "nbconvert_exporter": "python",
   "pygments_lexer": "ipython3",
   "version": "3.9.12"
  },
  "orig_nbformat": 4,
  "vscode": {
   "interpreter": {
    "hash": "94da08f338e80510c67c0e170d825e81e584174cf068fdec7b6c1dd9466d3963"
   }
  }
 },
 "nbformat": 4,
 "nbformat_minor": 2
}
