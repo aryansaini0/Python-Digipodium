{
 "cells": [
  {
   "cell_type": "markdown",
   "metadata": {},
   "source": [
    "list are inefficient for searching and storing meaningful data\n"
   ]
  },
  {
   "cell_type": "markdown",
   "metadata": {},
   "source": [
    "*dictionary is a collection of key value pairs"
   ]
  },
  {
   "cell_type": "code",
   "execution_count": 2,
   "metadata": {},
   "outputs": [
    {
     "name": "stdout",
     "output_type": "stream",
     "text": [
      "{'Alan': 30, 'Brian': 50, 'Charles': 60, 'David': 70, 'Eric': 80, 'Frank': 90}\n"
     ]
    }
   ],
   "source": [
    "marks_dict = {'Alan' :30,'Brian' : 50, 'Charles' : 60, 'David' : 70, 'Eric' : 80, 'Frank' : 90}\n",
    "print(marks_dict)"
   ]
  },
  {
   "cell_type": "code",
   "execution_count": 4,
   "metadata": {},
   "outputs": [
    {
     "name": "stdout",
     "output_type": "stream",
     "text": [
      "Charles got 60\n",
      "we are adding grace marks for Alan\n",
      "new marks for Alan is  45\n"
     ]
    }
   ],
   "source": [
    "print(\"Charles got\",marks_dict['Charles'])#get value of charles\n",
    "print(\"we are adding grace marks for Alan\")\n",
    "marks_dict['Alan'] = 45\n",
    "print('new marks for Alan is ',marks_dict['Alan'])"
   ]
  },
  {
   "cell_type": "code",
   "execution_count": 6,
   "metadata": {},
   "outputs": [],
   "source": [
    "marks_dict_v2 = {\n",
    "   'student 1' : {\n",
    "      'name' : 'Alan',\n",
    "      'cgpa' : 8.3\n",
    "    },\n",
    "    'student 2' : {\n",
    "      'name' : 'Brian',\n",
    "      'cgpa' : 7.5\n",
    "    },\n",
    "    'student 3' : {\n",
    "      'name' : 'Charles',\n",
    "      'cgpa' : 9.0\n",
    "   },\n",
    "}"
   ]
  },
  {
   "cell_type": "code",
   "execution_count": 7,
   "metadata": {},
   "outputs": [
    {
     "name": "stdout",
     "output_type": "stream",
     "text": [
      "{'name': 'Alan', 'cgpa': 8.3}\n"
     ]
    }
   ],
   "source": [
    "print(marks_dict_v2['student 1'])"
   ]
  },
  {
   "cell_type": "code",
   "execution_count": 9,
   "metadata": {},
   "outputs": [
    {
     "name": "stdout",
     "output_type": "stream",
     "text": [
      "Alan\n"
     ]
    }
   ],
   "source": [
    "print(marks_dict_v2['student 1']['name'])"
   ]
  },
  {
   "cell_type": "code",
   "execution_count": 10,
   "metadata": {},
   "outputs": [
    {
     "name": "stdout",
     "output_type": "stream",
     "text": [
      "8.3\n"
     ]
    }
   ],
   "source": [
    "print(marks_dict_v2['student 1']['cgpa'])"
   ]
  },
  {
   "cell_type": "code",
   "execution_count": 16,
   "metadata": {},
   "outputs": [],
   "source": [
    "#create a dictionary to story movie name,year,rating and overview\n",
    "movie_dict = {\n",
    "    'movie 1' : {\n",
    "      'name' : 'Spiderman',\n",
    "      'year' : 2002,\n",
    "      'rating' : 4,\n",
    "      'overview' : 'very good',\n",
    "    },\n",
    "    'movie 2' : {\n",
    "      'name' : 'Oldboy',\n",
    "      'year' : 2003,\n",
    "      'rating' : 4,\n",
    "      'overview' : 'good',\n",
    "    },\n",
    "    'movie 3' : {\n",
    "      'name' : 'Hellboy',\n",
    "      'year' : 2004,\n",
    "      'rating' : 5,\n",
    "      'overview' : 'excellent',\n",
    "    },\n",
    "    'movie 4' : {\n",
    "      'name' : 'Munich',\n",
    "      'year' : 2005,\n",
    "      'rating' : 2,\n",
    "      'overview' : 'poor',\n",
    "    },\n",
    "    \n",
    "}"
   ]
  },
  {
   "cell_type": "code",
   "execution_count": 27,
   "metadata": {},
   "outputs": [
    {
     "ename": "AttributeError",
     "evalue": "'NoneType' object has no attribute 'get'",
     "output_type": "error",
     "traceback": [
      "\u001b[1;31m---------------------------------------------------------------------------\u001b[0m",
      "\u001b[1;31mAttributeError\u001b[0m                            Traceback (most recent call last)",
      "\u001b[1;32mc:\\Users\\aryan\\OneDrive\\Documents\\Python Digipodium\\dictionaries.ipynb Cell 10\u001b[0m in \u001b[0;36m<cell line: 1>\u001b[1;34m()\u001b[0m\n\u001b[1;32m----> <a href='vscode-notebook-cell:/c%3A/Users/aryan/OneDrive/Documents/Python%20Digipodium/dictionaries.ipynb#ch0000016?line=0'>1</a>\u001b[0m movie_dict\u001b[39m.\u001b[39;49mget(\u001b[39m'\u001b[39;49m\u001b[39mSpiderman\u001b[39;49m\u001b[39m'\u001b[39;49m)\u001b[39m.\u001b[39;49mget(\u001b[39m'\u001b[39m\u001b[39mrating\u001b[39m\u001b[39m'\u001b[39m)\n",
      "\u001b[1;31mAttributeError\u001b[0m: 'NoneType' object has no attribute 'get'"
     ]
    }
   ],
   "source": [
    "movie_dict.get('Spiderman').get('rating')"
   ]
  },
  {
   "cell_type": "code",
   "execution_count": 29,
   "metadata": {},
   "outputs": [
    {
     "ename": "KeyError",
     "evalue": "'Spiderman'",
     "output_type": "error",
     "traceback": [
      "\u001b[1;31m---------------------------------------------------------------------------\u001b[0m",
      "\u001b[1;31mKeyError\u001b[0m                                  Traceback (most recent call last)",
      "\u001b[1;32mc:\\Users\\aryan\\OneDrive\\Documents\\Python Digipodium\\dictionaries.ipynb Cell 11\u001b[0m in \u001b[0;36m<cell line: 1>\u001b[1;34m()\u001b[0m\n\u001b[1;32m----> <a href='vscode-notebook-cell:/c%3A/Users/aryan/OneDrive/Documents/Python%20Digipodium/dictionaries.ipynb#ch0000019?line=0'>1</a>\u001b[0m movie_dict[\u001b[39m'\u001b[39;49m\u001b[39mSpiderman\u001b[39;49m\u001b[39m'\u001b[39;49m][\u001b[39m'\u001b[39m\u001b[39mrating\u001b[39m\u001b[39m'\u001b[39m] \u001b[39m=\u001b[39m \u001b[39m8.9\u001b[39m\n\u001b[0;32m      <a href='vscode-notebook-cell:/c%3A/Users/aryan/OneDrive/Documents/Python%20Digipodium/dictionaries.ipynb#ch0000019?line=1'>2</a>\u001b[0m \u001b[39mprint\u001b[39m(movie_dict)\n",
      "\u001b[1;31mKeyError\u001b[0m: 'Spiderman'"
     ]
    }
   ],
   "source": [
    "movie_dict['Spiderman']['rating'] = 8.9\n",
    "print(movie_dict)"
   ]
  },
  {
   "cell_type": "code",
   "execution_count": 20,
   "metadata": {},
   "outputs": [
    {
     "name": "stdout",
     "output_type": "stream",
     "text": [
      "Jack\n"
     ]
    }
   ],
   "source": [
    "#get vs[] for retrieving elements\n",
    "my_dict = {'name': 'Jack','age': 26}\n",
    "print(my_dict['name'])"
   ]
  },
  {
   "cell_type": "code",
   "execution_count": 22,
   "metadata": {},
   "outputs": [
    {
     "name": "stdout",
     "output_type": "stream",
     "text": [
      "26\n"
     ]
    }
   ],
   "source": [
    "print(my_dict.get('age'))"
   ]
  },
  {
   "cell_type": "code",
   "execution_count": 24,
   "metadata": {},
   "outputs": [
    {
     "name": "stdout",
     "output_type": "stream",
     "text": [
      "None\n"
     ]
    }
   ],
   "source": [
    "print(my_dict.get('address'))"
   ]
  },
  {
   "cell_type": "code",
   "execution_count": 28,
   "metadata": {},
   "outputs": [
    {
     "ename": "KeyError",
     "evalue": "'address'",
     "output_type": "error",
     "traceback": [
      "\u001b[1;31m---------------------------------------------------------------------------\u001b[0m",
      "\u001b[1;31mKeyError\u001b[0m                                  Traceback (most recent call last)",
      "\u001b[1;32mc:\\Users\\aryan\\OneDrive\\Documents\\Python Digipodium\\dictionaries.ipynb Cell 14\u001b[0m in \u001b[0;36m<cell line: 1>\u001b[1;34m()\u001b[0m\n\u001b[1;32m----> <a href='vscode-notebook-cell:/c%3A/Users/aryan/OneDrive/Documents/Python%20Digipodium/dictionaries.ipynb#ch0000017?line=0'>1</a>\u001b[0m \u001b[39mprint\u001b[39m(my_dict[\u001b[39m'\u001b[39;49m\u001b[39maddress\u001b[39;49m\u001b[39m'\u001b[39;49m])\n",
      "\u001b[1;31mKeyError\u001b[0m: 'address'"
     ]
    }
   ],
   "source": [
    "print(my_dict['address'])"
   ]
  },
  {
   "cell_type": "code",
   "execution_count": 36,
   "metadata": {},
   "outputs": [],
   "source": [
    "#create a dictionary\n",
    "squares = {1:1,2:4,3:9,4:16,5:25}"
   ]
  },
  {
   "cell_type": "code",
   "execution_count": 31,
   "metadata": {},
   "outputs": [
    {
     "name": "stdout",
     "output_type": "stream",
     "text": [
      "16\n"
     ]
    }
   ],
   "source": [
    "print(squares.pop(4))"
   ]
  },
  {
   "cell_type": "code",
   "execution_count": 32,
   "metadata": {},
   "outputs": [
    {
     "name": "stdout",
     "output_type": "stream",
     "text": [
      "(5, 25)\n"
     ]
    }
   ],
   "source": [
    "#remove an arbitrary item,return(key,value)\n",
    "print(squares.popitem())"
   ]
  },
  {
   "cell_type": "code",
   "execution_count": 33,
   "metadata": {},
   "outputs": [],
   "source": [
    "#remove all items\n",
    "squares.clear()"
   ]
  },
  {
   "cell_type": "code",
   "execution_count": 37,
   "metadata": {},
   "outputs": [],
   "source": [
    "#create a dictionary\n",
    "squares = {1:1,2:4,3:9,4:16,5:25}"
   ]
  },
  {
   "cell_type": "code",
   "execution_count": 38,
   "metadata": {},
   "outputs": [
    {
     "name": "stdout",
     "output_type": "stream",
     "text": [
      "1\n",
      "2\n",
      "3\n",
      "4\n",
      "5\n"
     ]
    }
   ],
   "source": [
    "#only keys\n",
    "for i in squares:\n",
    "    print(i)"
   ]
  },
  {
   "cell_type": "code",
   "execution_count": 39,
   "metadata": {},
   "outputs": [
    {
     "name": "stdout",
     "output_type": "stream",
     "text": [
      "1\n",
      "4\n",
      "9\n",
      "16\n",
      "25\n"
     ]
    }
   ],
   "source": [
    "#only values using i as key\n",
    "for i in squares :\n",
    "    print(squares[i])"
   ]
  },
  {
   "cell_type": "code",
   "execution_count": 43,
   "metadata": {},
   "outputs": [
    {
     "ename": "AttributeError",
     "evalue": "'dict' object has no attribute 'item'",
     "output_type": "error",
     "traceback": [
      "\u001b[1;31m---------------------------------------------------------------------------\u001b[0m",
      "\u001b[1;31mAttributeError\u001b[0m                            Traceback (most recent call last)",
      "\u001b[1;32mc:\\Users\\aryan\\OneDrive\\Documents\\Python Digipodium\\dictionaries.ipynb Cell 23\u001b[0m in \u001b[0;36m<cell line: 2>\u001b[1;34m()\u001b[0m\n\u001b[0;32m      <a href='vscode-notebook-cell:/c%3A/Users/aryan/OneDrive/Documents/Python%20Digipodium/dictionaries.ipynb#ch0000026?line=0'>1</a>\u001b[0m \u001b[39m#using items() function to get both key and value\u001b[39;00m\n\u001b[1;32m----> <a href='vscode-notebook-cell:/c%3A/Users/aryan/OneDrive/Documents/Python%20Digipodium/dictionaries.ipynb#ch0000026?line=1'>2</a>\u001b[0m \u001b[39mfor\u001b[39;00m k,v \u001b[39min\u001b[39;00m squares\u001b[39m.\u001b[39;49mitem():\n\u001b[0;32m      <a href='vscode-notebook-cell:/c%3A/Users/aryan/OneDrive/Documents/Python%20Digipodium/dictionaries.ipynb#ch0000026?line=2'>3</a>\u001b[0m     \u001b[39mprint\u001b[39m(k,v)\n",
      "\u001b[1;31mAttributeError\u001b[0m: 'dict' object has no attribute 'item'"
     ]
    }
   ],
   "source": [
    "#using items() function to get both key and value\n",
    "for k,v in squares.item():\n",
    "    print(k,v)"
   ]
  },
  {
   "cell_type": "code",
   "execution_count": null,
   "metadata": {},
   "outputs": [],
   "source": []
  }
 ],
 "metadata": {
  "kernelspec": {
   "display_name": "Python 3.9.12 ('base')",
   "language": "python",
   "name": "python3"
  },
  "language_info": {
   "codemirror_mode": {
    "name": "ipython",
    "version": 3
   },
   "file_extension": ".py",
   "mimetype": "text/x-python",
   "name": "python",
   "nbconvert_exporter": "python",
   "pygments_lexer": "ipython3",
   "version": "3.9.12"
  },
  "orig_nbformat": 4,
  "vscode": {
   "interpreter": {
    "hash": "94da08f338e80510c67c0e170d825e81e584174cf068fdec7b6c1dd9466d3963"
   }
  }
 },
 "nbformat": 4,
 "nbformat_minor": 2
}
