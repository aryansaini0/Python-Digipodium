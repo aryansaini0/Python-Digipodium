{
 "cells": [
  {
   "cell_type": "code",
   "execution_count": 1,
   "metadata": {},
   "outputs": [
    {
     "name": "stdout",
     "output_type": "stream",
     "text": [
      "[3, 4, 6, 9, 7]\n",
      "[9, 16, 36, 81, 49]\n"
     ]
    }
   ],
   "source": [
    "x = [3,4,6,9,7]\n",
    "x2 = []\n",
    "for i in x:\n",
    "    sqr = i**2\n",
    "    x2.append(sqr)\n",
    "print(x)\n",
    "print(x2)"
   ]
  },
  {
   "cell_type": "code",
   "execution_count": 2,
   "metadata": {},
   "outputs": [
    {
     "name": "stdout",
     "output_type": "stream",
     "text": [
      "[9, 16, 36, 81, 49]\n"
     ]
    }
   ],
   "source": [
    "x = [3,4,6,9,7]\n",
    "x3 = []\n",
    "x3 = [i**2 for i in x]# comprehension \n",
    "print(x3)\n"
   ]
  },
  {
   "cell_type": "markdown",
   "metadata": {},
   "source": [
    "# comprehension - when you want to create a new list from exixting list\n",
    "**newlist = [operation loop condition]**\n",
    "\n",
    "**comprehension works on dictionaries and sets**"
   ]
  },
  {
   "cell_type": "code",
   "execution_count": 3,
   "metadata": {},
   "outputs": [
    {
     "name": "stdout",
     "output_type": "stream",
     "text": [
      "[2, 8, 6, 2, 10]\n"
     ]
    }
   ],
   "source": [
    "a = [2,5,8,1,6,2,5,10]\n",
    "even_a = [i for i in a if i%2 == 0]\n",
    "print(even_a)"
   ]
  },
  {
   "cell_type": "code",
   "execution_count": 6,
   "metadata": {},
   "outputs": [
    {
     "name": "stdout",
     "output_type": "stream",
     "text": [
      "['AS', 'ST', 'SM']\n"
     ]
    }
   ],
   "source": [
    "names = ['Aparna Sharma','Satyam Tiwari','Srishti Mishra']\n",
    "initial_names = [f'{n.split()[0][0]}{n.split()[-1][0]}' for n in names]\n",
    "print(initial_names)"
   ]
  },
  {
   "cell_type": "code",
   "execution_count": 14,
   "metadata": {},
   "outputs": [
    {
     "name": "stdout",
     "output_type": "stream",
     "text": [
      "{1, 2, 3, 23, 41, 123}\n"
     ]
    }
   ],
   "source": [
    "x = {1,2,3,41,23,123}\n",
    "print(x)"
   ]
  },
  {
   "cell_type": "code",
   "execution_count": 16,
   "metadata": {},
   "outputs": [
    {
     "name": "stdout",
     "output_type": "stream",
     "text": [
      "{1, 2, 3, 23, 41, 123} {1, 1860867, 12167, 8, 68921, 27}\n"
     ]
    }
   ],
   "source": [
    "x3 = {i**3 for i in x}\n",
    "print(x,x3)"
   ]
  },
  {
   "cell_type": "code",
   "execution_count": 8,
   "metadata": {},
   "outputs": [],
   "source": [
    "rainfall = {\n",
    "    '2001':350,\n",
    "    '2002':400,\n",
    "    '2003':510,\n",
    "    '2004':600,\n",
    "    '2005':700,\n",
    "}"
   ]
  },
  {
   "cell_type": "code",
   "execution_count": 9,
   "metadata": {},
   "outputs": [],
   "source": [
    "rainfall_norm = {i[0]:i[1]/700 for i in rainfall.items()}"
   ]
  },
  {
   "cell_type": "code",
   "execution_count": 12,
   "metadata": {},
   "outputs": [
    {
     "name": "stdout",
     "output_type": "stream",
     "text": [
      "{'2001': 0.5, '2002': 0.5714285714285714, '2003': 0.7285714285714285, '2004': 0.8571428571428571, '2005': 1.0}\n"
     ]
    }
   ],
   "source": [
    "print(rainfall_norm)"
   ]
  },
  {
   "cell_type": "code",
   "execution_count": 10,
   "metadata": {},
   "outputs": [
    {
     "data": {
      "text/plain": [
       "{'2001': 0.5,\n",
       " '2002': 0.5714285714285714,\n",
       " '2003': 0.7285714285714285,\n",
       " '2004': 0.8571428571428571,\n",
       " '2005': 1.0}"
      ]
     },
     "execution_count": 10,
     "metadata": {},
     "output_type": "execute_result"
    }
   ],
   "source": [
    "rainfall_norm"
   ]
  },
  {
   "cell_type": "markdown",
   "metadata": {},
   "source": [
    "**wap to create a program that makes a list of numbers and then generate a list of all even nums and odd nums separated using comprehension**"
   ]
  },
  {
   "cell_type": "code",
   "execution_count": 15,
   "metadata": {},
   "outputs": [
    {
     "name": "stdout",
     "output_type": "stream",
     "text": [
      "[2, 4, 6, 8, 10]\n",
      "[1, 3, 5, 7, 9]\n"
     ]
    }
   ],
   "source": [
    "nums = [1,2,3,4,5,6,7,8,9,10]\n",
    "even_n = [i for i in nums if i%2 == 0]\n",
    "odd_n = [i for i in nums if i%2 != 0]\n",
    "print(even_n)\n",
    "print(odd_n)\n"
   ]
  },
  {
   "cell_type": "code",
   "execution_count": null,
   "metadata": {},
   "outputs": [],
   "source": []
  }
 ],
 "metadata": {
  "kernelspec": {
   "display_name": "Python 3.9.12 ('base')",
   "language": "python",
   "name": "python3"
  },
  "language_info": {
   "codemirror_mode": {
    "name": "ipython",
    "version": 3
   },
   "file_extension": ".py",
   "mimetype": "text/x-python",
   "name": "python",
   "nbconvert_exporter": "python",
   "pygments_lexer": "ipython3",
   "version": "3.9.12"
  },
  "orig_nbformat": 4,
  "vscode": {
   "interpreter": {
    "hash": "94da08f338e80510c67c0e170d825e81e584174cf068fdec7b6c1dd9466d3963"
   }
  }
 },
 "nbformat": 4,
 "nbformat_minor": 2
}
